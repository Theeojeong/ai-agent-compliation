{
 "cells": [
  {
   "cell_type": "code",
   "execution_count": null,
   "id": "ab9a4faa",
   "metadata": {},
   "outputs": [],
   "source": [
    "from typing import TypedDict, List, Dict\n",
    "from langgraph.graph import StateGraph, START, END \n",
    "from langchain.chat_models import init_chat_model\n",
    "from pydantic import BaseModel\n",
    "\n",
    "class State(TypedDict):\n",
    "    dish: str\n",
    "    ingredients: list[dict]\n",
    "    recipe_steps: str\n",
    "    plating_instructions: str\n",
    "\n",
    "class Ingredient(BaseModel):\n",
    "    name: str\n",
    "    quantity: str\n",
    "    unit: str\n",
    "\n",
    "class IngredientsOutput(BaseModel):\n",
    "    ingredients: List[Ingredient]\n",
    "\n",
    "llm = init_chat_model(\"openai:gpt-4o-mini\")"
   ]
  },
  {
   "cell_type": "code",
   "execution_count": 7,
   "id": "c8800cda",
   "metadata": {},
   "outputs": [],
   "source": [
    "def list_ingredients(state: State):\n",
    "    dish = state[\"dish\"]\n",
    "\n",
    "    prompt = f\"다음 요리의 재료들을 알려주세요. 요리: {dish}\"\n",
    "\n",
    "    structured_llm = llm.with_structured_output(IngredientsOutput)\n",
    "\n",
    "    response = structured_llm.invoke(prompt)\n",
    "\n",
    "    return {\"ingredients\": response}\n",
    "\n",
    "def create_recipe(state: State):\n",
    "    ingredients = state[\"ingredients\"]\n",
    "    dish = state[\"dish\"]\n",
    "\n",
    "    prompt = f\"요리와 재료를 보고 조리법을 순서대로 알려주세요. 요리: {dish} 재료: {ingredients}\"\n",
    "\n",
    "    response = llm.invoke(prompt)\n",
    "\n",
    "    return {\"recipe_steps\": response.content}\n",
    "\n",
    "def describe_plating(state: State):\n",
    "    dish = state[\"dish\"]\n",
    "    recipe_steps = state[\"recipe_steps\"]\n",
    "\n",
    "    prompt = f\"다음 요리와 조리법을 보고 예쁘게 플레이팅을 하는 방법을 가르쳐 주세요. 요리:{dish} 조리법:{recipe_steps}\"\n",
    "\n",
    "    response = llm.invoke(prompt)\n",
    "\n",
    "    return {\"plating_instructions\": response.content}"
   ]
  },
  {
   "cell_type": "code",
   "execution_count": 8,
   "id": "5c1ba905",
   "metadata": {},
   "outputs": [
    {
     "data": {
      "image/png": "[encoded data removed]",
      "text/plain": [
       "<langgraph.graph.state.CompiledStateGraph object at 0x000002806BE2EE90>"
      ]
     },
     "execution_count": 8,
     "metadata": {},
     "output_type": "execute_result"
    }
   ],
   "source": [
    "graph_builder = StateGraph(State)\n",
    "\n",
    "graph_builder.add_node(\"list_ingredients\", list_ingredients)\n",
    "graph_builder.add_node(\"create_recipe\", create_recipe)\n",
    "graph_builder.add_node(\"describe_plating\", describe_plating)\n",
    "\n",
    "graph_builder.add_edge(START, \"list_ingredients\")\n",
    "graph_builder.add_edge(\"list_ingredients\", \"create_recipe\")\n",
    "graph_builder.add_edge(\"create_recipe\", \"describe_plating\")\n",
    "graph_builder.add_edge(\"describe_plating\", END)\n",
    "\n",
    "graph = graph_builder.compile()\n",
    "graph"
   ]
  },
  {
   "cell_type": "code",
   "execution_count": 9,
   "id": "3f158049",
   "metadata": {},
   "outputs": [
    {
     "data": {
      "text/plain": [
       "{'ingredients': IngredientsOutput(ingredients=[Ingredient(name='계란', quantity='3', unit='개'), Ingredient(name='물', quantity='1', unit='컵'), Ingredient(name='소금', quantity='1/2', unit='티스푼'), Ingredient(name='간장', quantity='1', unit='티스푼'), Ingredient(name='파', quantity='1', unit='큰술'), Ingredient(name='후추', quantity='약간', unit='티스푼')]),\n",
       " 'dish': '계란찜',\n",
       " 'recipe_steps': '계란찜의 조리법을 순서대로 알려드리겠습니다.\\n\\n### 재료\\n- 계란: 3개\\n- 물: 1컵\\n- 소금: 1/2 티스푼\\n- 간장: 1 티스푼\\n- 파: 1 큰술 (다진 것)\\n- 후추: 약간\\n\\n### 조리법\\n1. **재료 준비**: 계란을 깨서 그릇에 담고, 물, 소금, 간장을 넣습니다.\\n   \\n2. **혼합**: 계란과 다른 재료들을 잘 섞어줍니다. 흰자와 노른자가 골고루 섞일 수 있도록 저어주세요.\\n\\n3. **거품 제거**: 혼합한 계란 물 위에 생긴 거품을 숟가락으로 제거합니다. 이는 더 부드러운 식감을 위해 중요합니다.\\n\\n4. **증기 조리 준비**: 준비된 계란 혼합물을 체로 한번 걸러 냄으로써 공기 방울과 입자를 제거하여 부드럽고 균일한 질감을 만듭니다.\\n\\n5. **찜기 설정**: 찜기에 계란 혼합물이 담긴 그릇을 넣고, 물을 적당히 부어 찜을 시작합니다. \\n   - 물이 끓기 전에 찜 시작.\\n\\n6. **중약불에서 찌기**: 중약불에서 약 15-20분 정도 찌도록 합니다. 찜기를 덮고 너무 많이 열지 말고, 중간중간 확인하세요. \\n\\n7. **다진 파와 후추 추가**: 계란찜이 거의 다 익었을 때, 다진 파와 후추를 뿌려줍니다. \\n\\n8. **완성**: 계란찜이 다 익으면 불을 끄고, 잠시 식힌 후 그릇에 담아 냅니다.\\n\\n이제 맛있는 계란찜을 즐기시면 됩니다!',\n",
       " 'plating_instructions': '아름답게 플레이팅하는 방법을 알려드릴게요. 계란찜은 부드러운 질감과 색감을 가지고 있기 때문에 플레이팅에 신경 쓰면 더욱 맛있어 보이는 효과를 줄 수 있습니다.\\n\\n### 플레이팅 단계\\n\\n1. **그릇 선택**: 계란찜은 둥근 형태의 깊은 그릇이나 작은 사각 접시에 담는 것이 좋습니다. 옅은 색상의 그릇이 계란찜의 노란색과 잘 어울립니다.\\n\\n2. **계란찜 담기**: 조리한 계란찜을 그릇에 담습니다. 중앙에 높게 쌓이도록 담아주면 시각적으로 더 매력적으로 보입니다. 꼭지점은 부드럽게 다듬어주면 좋습니다.\\n\\n3. **토핑 추가**: 계란찜 위에 준비한 다진 파를 고르게 뿌립니다. 추가로 잘게 썬 홍고추나 청양고추를 위에 얹어서 색감을 더할 수 있습니다. \\n\\n4. **소스 추가**: 간장이나 참기름을 곁들이면 더욱 윤기가 나면서 맛도 깊어집니다. 간장 소스를 소량을 뿌리거나, 작은 소스 그릇에 담아 곁들여도 좋습니다.\\n\\n5. **장식**: 플레이팅이 끝난 후, 취향에 따라 씻은 풀잎이나 미니 채소 (예: 쌈채소, 나물 등)로 주변을 장식합니다. 이렇게 하면 빈 공간이 채워져 더욱 풍성한 느낌을 줍니다.\\n\\n6. **좌, 우 균형**: 그릇의 좌우가 균형 있게 보이도록 장식을 배치하세요. 예를 들어, 한쪽에 잘게 썬 고추를 올리고, 다른 쪽에 참기름을 골라서 떨어지게 배치할 수 있습니다.\\n\\n7. **최종 확인**: 모든 것이 한 번에 시각적으로 매력적이며 잘 배치되었는지 확인하고, 마지막으로 가벼운 손질로 그릇을 정리해줍니다.\\n\\n이렇게 플레이팅을 하면 더욱 맛있고 아름답게 보이는 계란찜을 완성할 수 있습니다. 식사를 즐기세요!'}"
      ]
     },
     "execution_count": 9,
     "metadata": {},
     "output_type": "execute_result"
    }
   ],
   "source": [
    "graph.invoke(\n",
    "    {\n",
    "        \"dish\": \"계란찜\"\n",
    "    }\n",
    ")"
   ]
  }
 ],
 "metadata": {
  "kernelspec": {
   "display_name": ".venv",
   "language": "python",
   "name": "python3"
  },
  "language_info": {
   "codemirror_mode": {
    "name": "ipython",
    "version": 3
   },
   "file_extension": ".py",
   "mimetype": "text/x-python",
   "name": "python",
   "nbconvert_exporter": "python",
   "pygments_lexer": "ipython3",
   "version": "3.13.5"
  }
 },
 "nbformat": 4,
 "nbformat_minor": 5
}
