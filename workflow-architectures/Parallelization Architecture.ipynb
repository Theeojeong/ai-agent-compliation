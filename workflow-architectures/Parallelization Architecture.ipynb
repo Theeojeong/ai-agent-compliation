{
 "cells": [
  {
   "cell_type": "code",
   "execution_count": 1,
   "id": "3f5fddca",
   "metadata": {},
   "outputs": [],
   "source": [
    "from typing import TypedDict\n",
    "from langgraph.graph import StateGraph, START, END\n",
    "from langchain.chat_models import init_chat_model\n",
    "\n",
    "class State(TypedDict):\n",
    "    document: str\n",
    "\n",
    "llm = init_chat_model(\"openai:gpt-4o-mini\")"
   ]
  },
  {
   "cell_type": "code",
   "execution_count": 2,
   "id": "968f1f34",
   "metadata": {},
   "outputs": [],
   "source": [
    "def get_key_points(state: State):\n",
    "    document = state['document']\n",
    "\n",
    "    prompt = f\"문서에서 중요한 포인트 5개를 뽑아주세요. 문서: {document}\"\n",
    "\n",
    "    llm.invoke()\n",
    "    pass\n",
    "\n",
    "\n",
    "def get_recommendation():\n",
    "\n",
    "    \n",
    "    pass\n",
    "\n",
    "def get_sentiment():\n",
    "    pass\n",
    "\n",
    "def get_summary():\n",
    "    pass\n",
    "\n",
    "def get_final_analysis():\n",
    "    pass"
   ]
  },
  {
   "cell_type": "code",
   "execution_count": null,
   "id": "f6bbbb5d",
   "metadata": {},
   "outputs": [],
   "source": [
    "graph_builder = StateGraph(State)\n",
    "\n",
    "graph_builder.add_node(\"get_key_points\", get_key_points)\n",
    "graph_builder.add_node(\"get_recommendation\", get_recommendation)\n",
    "graph_builder.add_node(\"get_sentiment\", get_sentiment)\n",
    "graph_builder.add_node(\"get_summary\", get_summary)\n",
    "graph_builder.add_node(\"get_final_analysis\", get_final_analysis)\n",
    "\n",
    "graph_builder.add_edge(START, \"get_key_points\")\n",
    "graph_builder.add_edge(START, \"get_recommendation\")\n",
    "graph_builder.add_edge(START, \"get_sentiment\")\n",
    "graph_builder.add_edge(START, \"get_summary\")\n",
    "\n",
    "graph_builder.add_edge(\"get_key_points\", \"get_final_analysis\")\n",
    "graph_builder.add_edge(\"get_recommendation\", \"get_final_analysis\")\n",
    "graph_builder.add_edge(\"get_sentiment\", \"get_final_analysis\")\n",
    "graph_builder.add_edge(\"get_summary\", \"get_final_analysis\")\n",
    "\n",
    "\n",
    "graph_builder.add_edge(\"get_final_analysis\", END)\n",
    "graph = graph_builder.compile()\n",
    "graph"
   ]
  }
 ],
 "metadata": {
  "kernelspec": {
   "display_name": ".venv",
   "language": "python",
   "name": "python3"
  },
  "language_info": {
   "codemirror_mode": {
    "name": "ipython",
    "version": 3
   },
   "file_extension": ".py",
   "mimetype": "text/x-python",
   "name": "python",
   "nbconvert_exporter": "python",
   "pygments_lexer": "ipython3",
   "version": "3.13.5"
  }
 },
 "nbformat": 4,
 "nbformat_minor": 5
}
