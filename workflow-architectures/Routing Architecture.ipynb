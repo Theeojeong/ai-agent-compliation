{
 "cells": [
  {
   "cell_type": "code",
   "execution_count": 1,
   "id": "de1f1e20",
   "metadata": {},
   "outputs": [],
   "source": [
    "from typing import Literal, TypedDict\n",
    "from pydantic import BaseModel\n",
    "from langchain.chat_models import init_chat_model\n",
    "from langgraph.graph import StateGraph, START, END\n",
    "from langgraph.types import Command\n",
    "\n",
    "\n",
    "class State(TypedDict):\n",
    "    question: str\n",
    "    difficulty: str\n",
    "    answer: str\n",
    "\n",
    "class DifficultyResponse(BaseModel):\n",
    "    difficulty: Literal[\"easy\", \"medium\", \"hard\"]\n",
    "\n",
    "\n",
    "llm = init_chat_model(\"openai:gpt-4o-mini\")\n",
    "easy_llm = init_chat_model(\"openai:gpt-3.5-turbo\")\n",
    "medium_llm = init_chat_model(\"openai:gpt-4o-mini\")\n",
    "hard_llm = init_chat_model(\"openai:gpt-5-mini\")"
   ]
  },
  {
   "cell_type": "code",
   "execution_count": 2,
   "id": "93c2a010",
   "metadata": {},
   "outputs": [],
   "source": [
    "def assess_difficulty(\n",
    "    state: State,\n",
    ") -> Literal[\"dumb_node\", \"average_node\", \"smart_node\"]:\n",
    "    user_question = state[\"question\"]\n",
    "\n",
    "    structured_llm = llm.with_structured_output(DifficultyResponse)\n",
    "\n",
    "    prompt = f\"\"\"사용자의 질문을 보고 답변의 난이도를 출력하세요.\n",
    "    easy: 답변하기 쉬운 질문일 때\n",
    "    medium: 답변하기 약간 어려운 질문일 때\n",
    "    hard: 답변하기 어려운 질문일 떄\n",
    "    사용자의 질문:{user_question}\n",
    "    \"\"\"\n",
    "\n",
    "    response = structured_llm.invoke(prompt)\n",
    "\n",
    "    if response.difficulty == \"easy\":\n",
    "        goto = \"dumb_node\"\n",
    "    elif response.difficulty == \"medium\":\n",
    "        goto = \"average_node\"\n",
    "    elif response.difficulty == \"hard\":\n",
    "        goto = \"smart_node\"\n",
    "\n",
    "    return Command(\n",
    "        goto=goto,\n",
    "        update={\n",
    "            \"difficulty\": response.difficulty,\n",
    "        },\n",
    "    )\n",
    "\n",
    "\n",
    "def dumb_node(state: State):\n",
    "    response = easy_llm.invoke(state[\"question\"])\n",
    "\n",
    "    return {\n",
    "        \"answer\": response.content\n",
    "    }\n",
    "\n",
    "def average_node(state: State):\n",
    "    response = medium_llm.invoke(state[\"question\"])\n",
    "\n",
    "    return {\"answer\": response.content}\n",
    "\n",
    "def smart_node(state: State):\n",
    "    response = hard_llm.invoke(state[\"question\"])\n",
    "\n",
    "    return {\"answer\": response.content}"
   ]
  },
  {
   "cell_type": "code",
   "execution_count": 5,
   "id": "fb8b9e3b",
   "metadata": {},
   "outputs": [
    {
     "data": {
      "image/png": "[encoded data removed]",
      "text/plain": [
       "<langgraph.graph.state.CompiledStateGraph object at 0x00000234A10CE210>"
      ]
     },
     "execution_count": 5,
     "metadata": {},
     "output_type": "execute_result"
    }
   ],
   "source": [
    "graph_builder = StateGraph(State)\n",
    "\n",
    "graph_builder.add_node(\n",
    "    \"assess_difficulty\",\n",
    "    assess_difficulty,\n",
    "    destinations=[\"dumb_node\", \"average_node\", \"smart_node\"],\n",
    ")\n",
    "graph_builder.add_node(\"dumb_node\", dumb_node)\n",
    "graph_builder.add_node(\"average_node\", average_node)\n",
    "graph_builder.add_node(\"smart_node\", smart_node)\n",
    "\n",
    "graph_builder.add_edge(START, \"assess_difficulty\")\n",
    "graph_builder.add_edge(\"dumb_node\", END)\n",
    "graph_builder.add_edge(\"average_node\", END)\n",
    "graph_builder.add_edge(\"smart_node\", END)\n",
    "\n",
    "graph = graph_builder.compile()\n",
    "\n",
    "graph"
   ]
  },
  {
   "cell_type": "code",
   "execution_count": 7,
   "id": "d3cda95e",
   "metadata": {},
   "outputs": [
    {
     "data": {
      "text/plain": [
       "{'question': '카발라가뭐야? 종교적인 의미에서',\n",
       " 'difficulty': 'medium',\n",
       " 'answer': \"카발라(Kabbalah)는 주로 유대교의 신비주의 전통으로, 신과 우주의 본질, 인간의 존재 및 영혼의 여정에 대한 깊은 이해를 추구하는 철학적이고 종교적인 체계입니다. 카발라는 '받음' 또는 '전달'이라는 의미를 가진 히브리어에서 유래했으며, 고대 유대교의 경전과 신비주의적 요소를 기반으로 합니다.\\n\\n카발라는 다음과 같은 주요 개념을 포함합니다:\\n\\n1. **세피로트(Sefirot)**: 카발라에서는 신의 속성을 나타내는 10개의 세피로트를 중심으로 한 나무의 형태로 표현됩니다. 이 세피로트는 신과 인류가 연결되는 경로를 나타냅니다.\\n\\n2. **모네스티(Monistic) 및 다신론(Polytheistic)**: 카발라에서는 궁극적인 실재인 '인피니트'(Ein Sof)를 중심으로 모든 것이 연결되어 있다고 믿고, 이는 신과 인간, 우주 간의 깊은 상호작용을 설명합니다.\\n\\n3. **창조와 신의 의도**: 카발라는 신이 세상을 창조한 방법에 대한 교리를 탐구하며, 이를 통해 성경의 깊은 의미와 인간의 존재 이유를 파악하려고 합니다.\\n\\n4. **영적 여정**: 인간의 영혼은 신과의 연합을 통해 완전함을 추구하는 과정으로 여겨지며, 카발라의 실천은 이러한 영적 진화를 도와줍니다.\\n\\n카발라는 역사적으로 비밀스럽고 엘리트적인 전통이었지만, 현대에 들어서는 더욱 많은 사람들에게 알려지고 연구되고 있습니다. 왜냐하면 카발라의 가르침은 개인의 정신적 성장뿐만 아니라, 더 나아가 인류 전체에 대한 통찰을 제공하기 때문입니다.\"}"
      ]
     },
     "execution_count": 7,
     "metadata": {},
     "output_type": "execute_result"
    }
   ],
   "source": [
    "graph.invoke(\n",
    "    {\n",
    "        \"question\": \"카발라가뭐야? 종교적인 의미에서\"\n",
    "    }\n",
    ")"
   ]
  }
 ],
 "metadata": {
  "kernelspec": {
   "display_name": ".venv",
   "language": "python",
   "name": "python3"
  },
  "language_info": {
   "codemirror_mode": {
    "name": "ipython",
    "version": 3
   },
   "file_extension": ".py",
   "mimetype": "text/x-python",
   "name": "python",
   "nbconvert_exporter": "python",
   "pygments_lexer": "ipython3",
   "version": "3.13.5"
  }
 },
 "nbformat": 4,
 "nbformat_minor": 5
}
