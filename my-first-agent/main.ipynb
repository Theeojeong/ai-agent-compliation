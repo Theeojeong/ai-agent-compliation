{
 "cells": [
  {
   "cell_type": "code",
   "execution_count": 2,
   "id": "8d894793",
   "metadata": {},
   "outputs": [],
   "source": [
    "import openai\n",
    "\n",
    "client = openai.OpenAI()\n",
    "messages = []"
   ]
  },
  {
   "cell_type": "code",
   "execution_count": 3,
   "id": "b74bd18b",
   "metadata": {},
   "outputs": [],
   "source": [
    "def get_weather(city):\n",
    "    return \"아테네의 평균 기온은 33도 입니다\"\n",
    "\n",
    "FUNCTION_MAP = {\n",
    "    \"get_weather\": get_weather\n",
    "    }\n",
    "\n",
    "\n",
    "TOOLS = [\n",
    "    {\n",
    "        'type': \"function\",\n",
    "        'function': {\n",
    "            'name': 'get_weather',\n",
    "            'description': 'A function to get the weather of a city.',\n",
    "            'parameters': {\n",
    "                'type': 'object',\n",
    "                'required': ['city'],\n",
    "                'properties': {\n",
    "                    'city': {\n",
    "                        'type': 'string',\n",
    "                        'description': 'A name of city to get the weather of'\n",
    "                    }\n",
    "                }\n",
    "            }\n",
    "        }\n",
    "    }\n",
    "]"
   ]
  },
  {
   "cell_type": "code",
   "execution_count": 4,
   "id": "584a6f83",
   "metadata": {},
   "outputs": [],
   "source": [
    "from openai.types.chat import ChatCompletionMessage\n",
    "import json\n",
    "\n",
    "def process_ai_response(message: ChatCompletionMessage):\n",
    "    if message.tool_calls:\n",
    "        messages.append(\n",
    "            {\n",
    "                'role': 'assistant',\n",
    "                'content': message.content or \"\",\n",
    "                'tool_calls': [\n",
    "                   {\n",
    "                    'id': tool_call.id,\n",
    "                    'type': 'function',\n",
    "                    'function': {\n",
    "                        'name': tool_call.function.name,\n",
    "                        'arguments': tool_call.function.arguments\n",
    "                    }\n",
    "                   } for tool_call in message.tool_calls \n",
    "                ]\n",
    "            }\n",
    "        )\n",
    "\n",
    "        for tool_call in message.tool_calls:\n",
    "            function_name = tool_call.function.name\n",
    "            arguments = tool_call.function.arguments\n",
    "\n",
    "            print(f\"calling function: {function_name} with {arguments}\")\n",
    "\n",
    "            try:\n",
    "                arguments = json.loads(arguments)\n",
    "            except json.JSONDecodeError:\n",
    "                arguments={}\n",
    "\n",
    "            function_to_run = FUNCTION_MAP.get(function_name)\n",
    "            result = function_to_run(**arguments)\n",
    "\n",
    "            print(f\"Ran {function_name} with args{arguments} for a result{result}\")\n",
    "\n",
    "            messages.append(\n",
    "                {\n",
    "                    'role': 'tool',\n",
    "                    'content': result,\n",
    "                    'tool_call_id': tool_call.id,\n",
    "                    'name': function_name\n",
    "                }\n",
    "            )\n",
    "        call_ai() # tool_calls가 사라질 때 까지\n",
    "        \n",
    "    else: # else로 나왔다는 건 tool_calls가 없다는 의미\n",
    "        messages.append({'role': 'assistant', 'content': message.content})\n",
    "        print(f\"AI: {message.content}\")\n",
    "\n",
    "def call_ai():\n",
    "    response = client.chat.completions.create(\n",
    "        model='gpt-4.1-mini',\n",
    "        messages=messages,\n",
    "        tools=TOOLS\n",
    "    )\n",
    "    process_ai_response(response.choices[0].message)"
   ]
  },
  {
   "cell_type": "code",
   "execution_count": 5,
   "id": "e5452923",
   "metadata": {},
   "outputs": [
    {
     "name": "stdout",
     "output_type": "stream",
     "text": [
      "User: 내 이름은 정재현이야\n",
      "AI: 안녕하세요, 정재현님! 만나서 반갑습니다. 오늘 어떻게 도와드릴까요?\n",
      "User: 내 이름이 뭐야?\n",
      "AI: 당신의 이름은 정재현입니다. 다른 도움이 필요하신가요?\n",
      "User: 아테네의 평균 기온이 궁금해\n",
      "calling function: get_weather with {\"city\":\"Athens\"}\n",
      "Ran get_weather with args{'city': 'Athens'} for a result아테네의 평균 기온은 33도 입니다\n",
      "AI: 아테네의 평균 기온은 33도입니다. 더 궁금한 점이 있나요?\n",
      "User: 코딩을 잘하는 방법을 알려줘\n",
      "AI: 코딩을 잘하는 방법에는 여러 가지가 있지만, 몇 가지 중요한 팁을 알려드릴게요:\n",
      "\n",
      "1. 기본기를 탄탄히 하세요: 프로그래밍 언어의 문법과 기본 개념을 잘 이해하는 것이 중요합니다.\n",
      "2. 꾸준히 연습하세요: 문제를 직접 풀어보면서 경험을 쌓는 것이 가장 효과적입니다.\n",
      "3. 작은 프로젝트부터 시작하세요: 간단한 프로그램을 만들어보면서 실력을 키워나가세요.\n",
      "4. 코드를 많이 읽어보세요: 다른 사람이 작성한 코드를 이해하고 분석하는 것도 좋은 공부 방법입니다.\n",
      "5. 디버깅 능력을 키우세요: 오류를 찾고 해결하는 능력은 매우 중요합니다.\n",
      "6. 최신 기술과 트렌드를 따라가세요: 꾸준히 공부하고 새로운 것을 배우는 자세가 필요합니다.\n",
      "7. 커뮤니티에 참여하세요: 질문하고 답변하면서 배울 수 있는 기회가 많습니다.\n",
      "\n",
      "필요하다면 특정 언어나 분야에 맞춘 공부 방법도 알려드릴 수 있습니다. 어떤 부분이 더 궁금한가요?\n"
     ]
    }
   ],
   "source": [
    "while True:\n",
    "    message = input(\"llm에게 질문해보세요\")\n",
    "    if message == \"quit\" or message == \"q\":\n",
    "        break\n",
    "    else:\n",
    "        messages.append({'role': 'user', 'content': message})\n",
    "        print('User:', message)\n",
    "        call_ai()"
   ]
  },
  {
   "cell_type": "code",
   "execution_count": 6,
   "id": "b12327c3",
   "metadata": {},
   "outputs": [
    {
     "data": {
      "text/plain": [
       "[{'role': 'user', 'content': '내 이름은 정재현이야'},\n",
       " {'role': 'assistant', 'content': '안녕하세요, 정재현님! 만나서 반갑습니다. 오늘 어떻게 도와드릴까요?'},\n",
       " {'role': 'user', 'content': '내 이름이 뭐야?'},\n",
       " {'role': 'assistant', 'content': '당신의 이름은 정재현입니다. 다른 도움이 필요하신가요?'},\n",
       " {'role': 'user', 'content': '아테네의 평균 기온이 궁금해'},\n",
       " {'role': 'assistant',\n",
       "  'content': '',\n",
       "  'tool_calls': [{'id': 'call_jy3RG2erMo2hLcBfi4CScvb2',\n",
       "    'type': 'function',\n",
       "    'function': {'name': 'get_weather', 'arguments': '{\"city\":\"Athens\"}'}}]},\n",
       " {'role': 'tool',\n",
       "  'content': '아테네의 평균 기온은 33도 입니다',\n",
       "  'tool_call_id': 'call_jy3RG2erMo2hLcBfi4CScvb2',\n",
       "  'name': 'get_weather'},\n",
       " {'role': 'assistant', 'content': '아테네의 평균 기온은 33도입니다. 더 궁금한 점이 있나요?'},\n",
       " {'role': 'user', 'content': '코딩을 잘하는 방법을 알려줘'},\n",
       " {'role': 'assistant',\n",
       "  'content': '코딩을 잘하는 방법에는 여러 가지가 있지만, 몇 가지 중요한 팁을 알려드릴게요:\\n\\n1. 기본기를 탄탄히 하세요: 프로그래밍 언어의 문법과 기본 개념을 잘 이해하는 것이 중요합니다.\\n2. 꾸준히 연습하세요: 문제를 직접 풀어보면서 경험을 쌓는 것이 가장 효과적입니다.\\n3. 작은 프로젝트부터 시작하세요: 간단한 프로그램을 만들어보면서 실력을 키워나가세요.\\n4. 코드를 많이 읽어보세요: 다른 사람이 작성한 코드를 이해하고 분석하는 것도 좋은 공부 방법입니다.\\n5. 디버깅 능력을 키우세요: 오류를 찾고 해결하는 능력은 매우 중요합니다.\\n6. 최신 기술과 트렌드를 따라가세요: 꾸준히 공부하고 새로운 것을 배우는 자세가 필요합니다.\\n7. 커뮤니티에 참여하세요: 질문하고 답변하면서 배울 수 있는 기회가 많습니다.\\n\\n필요하다면 특정 언어나 분야에 맞춘 공부 방법도 알려드릴 수 있습니다. 어떤 부분이 더 궁금한가요?'}]"
      ]
     },
     "execution_count": 6,
     "metadata": {},
     "output_type": "execute_result"
    }
   ],
   "source": [
    "messages"
   ]
  }
 ],
 "metadata": {
  "kernelspec": {
   "display_name": ".venv",
   "language": "python",
   "name": "python3"
  },
  "language_info": {
   "codemirror_mode": {
    "name": "ipython",
    "version": 3
   },
   "file_extension": ".py",
   "mimetype": "text/x-python",
   "name": "python",
   "nbconvert_exporter": "python",
   "pygments_lexer": "ipython3",
   "version": "3.13.5"
  }
 },
 "nbformat": 4,
 "nbformat_minor": 5
}
