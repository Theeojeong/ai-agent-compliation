{
 "cells": [
  {
   "cell_type": "code",
   "execution_count": 32,
   "id": "704e0797",
   "metadata": {},
   "outputs": [
    {
     "name": "stdout",
     "output_type": "stream",
     "text": [
      "{}\n",
      "웹 서치 중\n",
      "=====================================\n"
     ]
    }
   ],
   "source": [
    "from agents import Agent, Runner, function_tool, WebSearchTool\n",
    "\n",
    "@function_tool\n",
    "def get_weather():\n",
    "    \"\"\"날씨를 알려주는 도구\"\"\"\n",
    "    return \"30 degree\"\n",
    "\n",
    "agent = Agent(\n",
    "    name=\"Assistant Agent.\",\n",
    "    instructions=\"You are an helpful Assistant Agent.\",\n",
    "    tools=[get_weather, WebSearchTool()]\n",
    ")\n",
    "\n",
    "result = Runner.run_streamed(\n",
    "    agent,\n",
    "    \"안녕 내 이름은 정재현이야, 서울의 현재 날씨를 검색한 후 알려줘\"\n",
    ")\n",
    "\n",
    "async for event in result.stream_events():\n",
    "    if event.type == \"raw_response_event\":\n",
    "        if event.data.type == \"response.function_call_arguments.delta\":\n",
    "            print(event.data.delta)\n",
    "        elif event.data.type == \"response.web_search_call.searching\":\n",
    "            print(\"웹 서치 중\")\n",
    "            print(\"=====================================\")"
   ]
  }
 ],
 "metadata": {
  "kernelspec": {
   "display_name": ".venv",
   "language": "python",
   "name": "python3"
  },
  "language_info": {
   "codemirror_mode": {
    "name": "ipython",
    "version": 3
   },
   "file_extension": ".py",
   "mimetype": "text/x-python",
   "name": "python",
   "nbconvert_exporter": "python",
   "pygments_lexer": "ipython3",
   "version": "3.13.5"
  }
 },
 "nbformat": 4,
 "nbformat_minor": 5
}
