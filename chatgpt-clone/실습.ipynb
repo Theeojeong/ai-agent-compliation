{
 "cells": [
  {
   "cell_type": "code",
   "execution_count": 19,
   "id": "6d0d9952",
   "metadata": {},
   "outputs": [
    {
     "name": "stdout",
     "output_type": "stream",
     "text": [
      "Agent updated to: Assistant Agent\n",
      "==================\n",
      "tool_call_item: {'arguments': '{\"city\":\"서울\"}', 'call_id': 'call_e7V608W4NPUyllxvpToseWVB', 'name': 'get_weather', 'type': 'function_call', 'id': 'fc_68d3a3c355908192a6d1d2850b5431c60b355edc160d5e63', 'status': 'completed'}\n",
      "==================\n",
      "tool_call_output_item: 섭씨 80도\n",
      "==================\n",
      "최종 답변: 오늘 서울의 날씨는 섭씨 80도로 표시되고 있습니다. 다만, 이는 실제 기온으로는 매우 비현실적인 수치입니다. 정상적인 서울의 여름 기온은 보통 25~35도 사이입니다. 혹시 다시 한번 확인해 드리거나, 다른 정보를 원하시면 말씀해 주세요!\n",
      "==================\n"
     ]
    }
   ],
   "source": [
    "from agents import Agent, Runner, function_tool, SQLiteSession, ItemHelpers\n",
    "\n",
    "# session = SQLiteSession(\n",
    "#     \"user1\", \"user-memory.db\"\n",
    "# )\n",
    "\n",
    "@function_tool\n",
    "def get_weather(city: str):\n",
    "    \"\"\"날씨를 알려주는 도구\"\"\"\n",
    "    return \"섭씨 80도\"\n",
    "\n",
    "agent = Agent(\n",
    "    name=\"Assistant Agent\",\n",
    "    instructions=\"You are a helpful assistant. Use tools when you needed to answer question.\",\n",
    "    tools=[get_weather]\n",
    "\n",
    ")\n",
    "\n",
    "stream = Runner.run_streamed(\n",
    "    agent, \"나는 서울에 살고 있는 정재현이야, 오늘의 서울 날씨를 알려줘\"\n",
    ")\n",
    "\n",
    "async for event in stream.stream_events():\n",
    "    if event.type == \"raw_response_event\":\n",
    "        continue\n",
    "    elif event.type == \"agent_updated_stream_event\":\n",
    "        print(\"Agent updated to:\", event.new_agent.name)\n",
    "    elif event.type == \"run_item_stream_event\":\n",
    "        if event.item.type == \"tool_call_item\":\n",
    "            print(\"tool_call_item:\", event.item.raw_item.to_dict())\n",
    "        if event.item.type == \"tool_call_output_item\":\n",
    "            print(\"tool_call_output_item:\", event.item.output)\n",
    "        if event.item.type == \"message_output_item\":\n",
    "            print(\"최종 답변:\", ItemHelpers.text_message_output(event.item))\n",
    "    print(\"==================\")\n"
   ]
  },
  {
   "cell_type": "code",
   "execution_count": 34,
   "id": "229d883d",
   "metadata": {},
   "outputs": [
    {
     "name": "stdout",
     "output_type": "stream",
     "text": [
      "오늘 서울의 날씨는 30도입니다. 꽤 더운 날이니 시원하게 보내세요! 더 궁금한 점 있으신가요?\n"
     ]
    }
   ],
   "source": [
    "from agents import Agent, Runner, function_tool, SQLiteSession, ItemHelpers\n",
    "\n",
    "session = SQLiteSession(\n",
    "    \"user1\", \"user-memory.db\"\n",
    ")\n",
    "\n",
    "@function_tool\n",
    "def get_weather(city: str):\n",
    "    \"\"\"날씨를 알려주는 도구\"\"\"\n",
    "    return \"30 degree\"\n",
    "\n",
    "agent = Agent(\n",
    "    name=\"Assistant Agent\",\n",
    "    instructions=\"You are a helpful assistant. Use tools when you needed to answer question.\",\n",
    "    tools=[get_weather]\n",
    "\n",
    ")\n",
    "\n",
    "stream = Runner.run_streamed(\n",
    "    agent, \"나는 서울에 살고 있는 정재현이야, 오늘의 서울 날씨를 알려줘\"\n",
    ")\n",
    "\n",
    "message = \"\"\n",
    "args = \"\"\n",
    "\n",
    "# async for event in stream.stream_events():\n",
    "#     if event.type == \"raw_response_event\":\n",
    "#         print(event.data.type)\n",
    "#         if event.data.type == \"response.output_text.delta\":\n",
    "#             message += event.data.delta\n",
    "#             print(\"메세지:\", message)\n",
    "#         elif event.data.type == \"response.function_call_arguments.delta\":\n",
    "#             args += event.data.delta\n",
    "#             print(\"args:\", args)\n",
    "#         elif event.data.type == \"response.completed\":\n",
    "#             message = \"\"\n",
    "#             args = \"\"\n",
    "\n",
    "result = await Runner.run(\n",
    "    agent,\n",
    "    \"오늘 서울의 날씨를 알려줘\",\n",
    "    session=session\n",
    ")\n",
    "\n",
    "print(result.final_output)"
   ]
  },
  {
   "cell_type": "code",
   "execution_count": null,
   "id": "1c54f330",
   "metadata": {},
   "outputs": [],
   "source": [
    "result = await Runner.run(\n",
    "    agent, \n",
    "    \"안녕\", \n",
    "    session=session)\n",
    "\n",
    "print(result)"
   ]
  },
  {
   "cell_type": "code",
   "execution_count": null,
   "id": "82b916d6",
   "metadata": {},
   "outputs": [
    {
     "name": "stdout",
     "output_type": "stream",
     "text": [
      "[]\n"
     ]
    }
   ],
   "source": [
    "from agents import SQLiteSession\n",
    "\n",
    "session = SQLiteSession(\n",
    "    \"user2\", \"user-memory.db\"\n",
    ")\n",
    "\n",
    "result = await session.get_items()\n",
    "print(result)"
   ]
  }
 ],
 "metadata": {
  "kernelspec": {
   "display_name": ".venv",
   "language": "python",
   "name": "python3"
  },
  "language_info": {
   "codemirror_mode": {
    "name": "ipython",
    "version": 3
   },
   "file_extension": ".py",
   "mimetype": "text/x-python",
   "name": "python",
   "nbconvert_exporter": "python",
   "pygments_lexer": "ipython3",
   "version": "3.13.5"
  }
 },
 "nbformat": 4,
 "nbformat_minor": 5
}
