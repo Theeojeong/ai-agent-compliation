{
 "cells": [
  {
   "cell_type": "code",
   "execution_count": 22,
   "id": "be26a3be",
   "metadata": {},
   "outputs": [
    {
     "name": "stdout",
     "output_type": "stream",
     "text": [
      "Agent updated to Assistant agent\n",
      "=============\n",
      "tool_call_item\n",
      "=============\n",
      "Seoul\n",
      "tool_call_output_item\n",
      "=============\n",
      "message_output_item\n",
      "=============\n"
     ]
    }
   ],
   "source": [
    "from agents import Agent, Runner, function_tool\n",
    "\n",
    "@function_tool\n",
    "def get_weather(city: str):\n",
    "    \"\"\"날씨를 알려주는 도구\"\"\"\n",
    "    print(city)\n",
    "    return \"30 degree\"\n",
    "\n",
    "agent = Agent(\n",
    "    name=\"Assistant agent\",\n",
    "    instructions=\"you are a helpful assistant. Use tools when needed to answer questions\",\n",
    "    tools=[get_weather]\n",
    ")\n",
    "\n",
    "stream = Runner.run_streamed(\n",
    "    agent, \"How are you? what is the weather in the capital of korea?\"\n",
    ")\n",
    "\n",
    "async for event in stream.stream_events():\n",
    "    if event.type == \"raw_response_event\":\n",
    "        continue\n",
    "    elif event.type == \"agent_updated_stream_event\":\n",
    "        print(\"Agent updated to\", event.new_agent.name)\n",
    "        print(\"=============\")\n",
    "    elif event.type == \"run_item_stream_event\":\n",
    "        print(event.item.type)\n",
    "        print(\"=============\")"
   ]
  }
 ],
 "metadata": {
  "kernelspec": {
   "display_name": ".venv",
   "language": "python",
   "name": "python3"
  },
  "language_info": {
   "codemirror_mode": {
    "name": "ipython",
    "version": 3
   },
   "file_extension": ".py",
   "mimetype": "text/x-python",
   "name": "python",
   "nbconvert_exporter": "python",
   "pygments_lexer": "ipython3",
   "version": "3.13.5"
  }
 },
 "nbformat": 4,
 "nbformat_minor": 5
}
