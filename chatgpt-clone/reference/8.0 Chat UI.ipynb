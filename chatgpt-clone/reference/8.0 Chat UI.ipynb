{
 "cells": [
  {
   "cell_type": "code",
   "execution_count": null,
   "id": "339961d3",
   "metadata": {},
   "outputs": [],
   "source": [
    "import dotenv\n",
    "dotenv.load_dotenv()\n",
    "\n",
    "import asyncio\n",
    "import streamlit as st\n",
    "from agents import Agent, Runner, SQLiteSession\n",
    "\n",
    "if \"agent\" not in st.session_state:\n",
    "    st.session_state[\"agent\"] = Agent(\n",
    "        name=\"ChatGPT Clone\",\n",
    "        instructions=\"\"\"\n",
    "        You are a helpful assistant.\n",
    "        \"\"\",\n",
    "    )\n",
    "agent = st.session_state[\"agent\"]\n",
    "\n",
    "if \"session\" not in st.session_state:\n",
    "    st.session_state[\"session\"] = SQLiteSession(\n",
    "        \"chat-history\",\n",
    "        \"chat-gpt-clone-memory.db\",\n",
    "    )\n",
    "session = st.session_state[\"session\"]\n",
    "\n",
    "\n",
    "async def run_agent(message):\n",
    "    stream = Runner.run_streamed(\n",
    "        agent,\n",
    "        message,\n",
    "        session=session,\n",
    "    )\n",
    "    async for event in stream.stream_events():\n",
    "        if event.type == \"raw_response_event\":\n",
    "            if event.data.type == \"response.output_text.delta\":\n",
    "                with st.chat_message(\"ai\"):\n",
    "                    st.write_stream(event.data.delta)\n",
    "\n",
    "prompt = st.chat_input(\"Write a message for your assistant\")\n",
    "\n",
    "if prompt:\n",
    "    with st.chat_message(\"human\"):\n",
    "        st.write(prompt)\n",
    "    asyncio.run(run_agent(prompt))\n",
    "\n",
    "with st.sidebar:\n",
    "    reset = st.button(\"Reset memory\")\n",
    "    if reset:\n",
    "        asyncio.run(session.clear_session())\n",
    "    st.write(asyncio.run(session.get_items()))"
   ]
  }
 ],
 "metadata": {
  "kernelspec": {
   "display_name": ".venv",
   "language": "python",
   "name": "python3"
  },
  "language_info": {
   "name": "python",
   "version": "3.13.5"
  }
 },
 "nbformat": 4,
 "nbformat_minor": 5
}
