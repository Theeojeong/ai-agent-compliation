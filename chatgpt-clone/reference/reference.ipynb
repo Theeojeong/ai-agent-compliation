{
 "cells": [
  {
   "cell_type": "code",
   "execution_count": 1,
   "id": "f87ec1bc",
   "metadata": {},
   "outputs": [
    {
     "name": "stdout",
     "output_type": "stream",
     "text": [
      "Agent updated to Assistant Agent\n",
      "====================\n",
      "{'arguments': '{\"city\":\"Madrid\"}', 'call_id': 'call_6GGoJ9WBBtTS0o8iy8ehyXym', 'name': 'get_weather', 'type': 'function_call', 'id': 'fc_68d2b4c4756481968b46757579a9d74e0120d5682912cdee', 'status': 'completed'}\n",
      "====================\n",
      "30 degrees\n",
      "====================\n",
      "Hello! I'm doing well, thank you. The current weather in Madrid, the capital of Spain, is 30 degrees. Let me know if you need more details or a forecast!\n",
      "====================\n"
     ]
    }
   ],
   "source": [
    "from agents import Agent, Runner, function_tool, ItemHelpers\n",
    "\n",
    "@function_tool\n",
    "def get_weather(city: str):\n",
    "    \"\"\"Get weather by city\"\"\"\n",
    "    return \"30 degrees\"\n",
    "\n",
    "agent = Agent(\n",
    "    name=\"Assistant Agent\",\n",
    "    instructions=\"You are a helpful assistant. Use tools when needed to answer questions\",\n",
    "    tools=[get_weather],\n",
    ")\n",
    "\n",
    "stream = Runner.run_streamed(\n",
    "    agent, \"Hello how are you? What is the weather in the capital of Spain?\"\n",
    ")\n",
    "\n",
    "async for event in stream.stream_events():\n",
    "    if event.type == \"raw_response_event\":\n",
    "        continue\n",
    "    elif event.type == \"agent_updated_stream_event\":\n",
    "        print(\"Agent updated to\", event.new_agent.name)\n",
    "    elif event.type == \"run_item_stream_event\":\n",
    "        if event.item.type == \"tool_call_item\":\n",
    "            print(event.item.raw_item.to_dict())\n",
    "        elif event.item.type == \"tool_call_output_item\":\n",
    "            print(event.item.output)\n",
    "        elif event.item.type == \"message_output_item\":\n",
    "            print(ItemHelpers.text_message_output(event.item))\n",
    "    print(\"=\" * 20)"
   ]
  },
  {
   "cell_type": "code",
   "execution_count": null,
   "id": "b9e65b8c",
   "metadata": {},
   "outputs": [],
   "source": [
    "from agents import Agent, Runner, function_tool, ItemHelpers\n",
    "\n",
    "@function_tool\n",
    "def get_weather(city: str):\n",
    "    \"\"\"Get weather by city\"\"\"\n",
    "    return \"30 degrees\"\n",
    "\n",
    "agent = Agent(\n",
    "    name=\"Assistant Agent\",\n",
    "    instructions=\"You are a helpful assistant. Use tools when needed to answer questions\",\n",
    "    tools=[get_weather],\n",
    ")\n",
    "\n",
    "stream = Runner.run_streamed(\n",
    "    agent, \"Hello how are you? What is the weather in the capital of Spain?\"\n",
    ")\n",
    "\n",
    "message = \"\"\n",
    "args = \"\"\n",
    "\n",
    "async for event in stream.stream_events():\n",
    "    if event.type == \"raw_response_event\":\n",
    "        event_type = event.data.type\n",
    "        if event_type == \"response.output_text.delta\":\n",
    "            message += event.data.delta\n",
    "            print(message)\n",
    "        elif event_type == \"response.function_call_arguments.delta\":\n",
    "            args += event.data.delta\n",
    "            print(args)\n",
    "        elif event_type == \"response.completed\":\n",
    "            message = \"\"\n",
    "            args = \"\""
   ]
  }
 ],
 "metadata": {
  "kernelspec": {
   "display_name": ".venv",
   "language": "python",
   "name": "python3"
  },
  "language_info": {
   "codemirror_mode": {
    "name": "ipython",
    "version": 3
   },
   "file_extension": ".py",
   "mimetype": "text/x-python",
   "name": "python",
   "nbconvert_exporter": "python",
   "pygments_lexer": "ipython3",
   "version": "3.13.5"
  }
 },
 "nbformat": 4,
 "nbformat_minor": 5
}
