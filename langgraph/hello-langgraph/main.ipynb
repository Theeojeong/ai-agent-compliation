{
 "cells": [
  {
   "cell_type": "code",
   "execution_count": 1,
   "id": "e5208a6a",
   "metadata": {},
   "outputs": [],
   "source": [
    "from langgraph.graph import StateGraph, START\n",
    "from typing import Annotated, List\n",
    "from langgraph.graph.message import add_messages\n",
    "from langchain.chat_models import init_chat_model\n",
    "from langchain_core.tools import tool\n",
    "from langchain_core.messages import AnyMessage\n",
    "from langgraph.prebuilt import ToolNode, tools_condition\n",
    "from typing import TypedDict\n",
    "\n",
    "\n",
    "class State(TypedDict):\n",
    "    messages: Annotated[List[AnyMessage], add_messages]"
   ]
  },
  {
   "cell_type": "code",
   "execution_count": 2,
   "id": "46ace6c1",
   "metadata": {},
   "outputs": [],
   "source": [
    "llm = init_chat_model(\"openai:gpt-4o\")"
   ]
  },
  {
   "cell_type": "code",
   "execution_count": 3,
   "id": "e7b7d890",
   "metadata": {},
   "outputs": [],
   "source": [
    "@tool\n",
    "def get_weather(city: str):\n",
    "    \"\"\" Gets weather in city\"\"\"\n",
    "    return f\"The weather in {city} is sunny.\"\n",
    "\n",
    "llm_with_tools = llm.bind_tools(tools=[get_weather])\n",
    "\n",
    "def Agent(state: State):\n",
    "    response = llm_with_tools.invoke(state[\"messages\"])\n",
    "    return {\"messages\": [response]}"
   ]
  },
  {
   "cell_type": "code",
   "execution_count": 4,
   "id": "78dbe16f",
   "metadata": {},
   "outputs": [
    {
     "data": {
      "image/png": "[encoded data removed]",
      "text/plain": [
       "<langgraph.graph.state.CompiledStateGraph object at 0x000002386CA4F770>"
      ]
     },
     "execution_count": 4,
     "metadata": {},
     "output_type": "execute_result"
    }
   ],
   "source": [
    "graph_builder = StateGraph(State)\n",
    "\n",
    "tool_node = ToolNode(\n",
    "    tools=[get_weather],\n",
    ")\n",
    "\n",
    "graph_builder.add_node(\"Agent\", Agent)\n",
    "graph_builder.add_node(\"tools\", tool_node)\n",
    "\n",
    "graph_builder.add_edge(START, \"Agent\")\n",
    "graph_builder.add_conditional_edges(\"Agent\", tools_condition)\n",
    "graph_builder.add_edge(\"tools\", \"Agent\")\n",
    "\n",
    "graph = graph_builder.compile()\n",
    "\n",
    "graph"
   ]
  },
  {
   "cell_type": "code",
   "execution_count": 5,
   "id": "184afbf7",
   "metadata": {},
   "outputs": [
    {
     "data": {
      "text/plain": [
       "{'messages': [HumanMessage(content='서울의 날씨를 알려줘', additional_kwargs={}, response_metadata={}, id='85996038-294d-4768-984d-fde85600502d'),\n",
       "  AIMessage(content='', additional_kwargs={'tool_calls': [{'id': 'call_3hODPrVDIMWyhJcVhSizsQzL', 'function': {'arguments': '{\"city\":\"서울\"}', 'name': 'get_weather'}, 'type': 'function'}], 'refusal': None}, response_metadata={'token_usage': {'completion_tokens': 14, 'prompt_tokens': 49, 'total_tokens': 63, 'completion_tokens_details': {'accepted_prediction_tokens': 0, 'audio_tokens': 0, 'reasoning_tokens': 0, 'rejected_prediction_tokens': 0}, 'prompt_tokens_details': {'audio_tokens': 0, 'cached_tokens': 0}}, 'model_name': 'gpt-4o-2024-08-06', 'system_fingerprint': 'fp_cbf1785567', 'id': 'chatcmpl-CPriMBDR2fYGWmYas7WOkX8cr5f6B', 'service_tier': 'default', 'finish_reason': 'tool_calls', 'logprobs': None}, id='run--571a0129-8d3e-46a2-aee5-018c5ac7b6cc-0', tool_calls=[{'name': 'get_weather', 'args': {'city': '서울'}, 'id': 'call_3hODPrVDIMWyhJcVhSizsQzL', 'type': 'tool_call'}], usage_metadata={'input_tokens': 49, 'output_tokens': 14, 'total_tokens': 63, 'input_token_details': {'audio': 0, 'cache_read': 0}, 'output_token_details': {'audio': 0, 'reasoning': 0}}),\n",
       "  ToolMessage(content='The weather in 서울 is sunny.', name='get_weather', id='a9bc6c94-7941-4876-b061-8113fb922d0a', tool_call_id='call_3hODPrVDIMWyhJcVhSizsQzL'),\n",
       "  AIMessage(content='서울의 날씨는 맑습니다.', additional_kwargs={'refusal': None}, response_metadata={'token_usage': {'completion_tokens': 10, 'prompt_tokens': 78, 'total_tokens': 88, 'completion_tokens_details': {'accepted_prediction_tokens': 0, 'audio_tokens': 0, 'reasoning_tokens': 0, 'rejected_prediction_tokens': 0}, 'prompt_tokens_details': {'audio_tokens': 0, 'cached_tokens': 0}}, 'model_name': 'gpt-4o-2024-08-06', 'system_fingerprint': 'fp_cbf1785567', 'id': 'chatcmpl-CPriOP57wpYKAiVKURo1rv71S7KKC', 'service_tier': 'default', 'finish_reason': 'stop', 'logprobs': None}, id='run--805df905-f4f2-4290-a774-365e73748831-0', usage_metadata={'input_tokens': 78, 'output_tokens': 10, 'total_tokens': 88, 'input_token_details': {'audio': 0, 'cache_read': 0}, 'output_token_details': {'audio': 0, 'reasoning': 0}})]}"
      ]
     },
     "execution_count": 5,
     "metadata": {},
     "output_type": "execute_result"
    }
   ],
   "source": [
    "graph.invoke(\n",
    "    {\n",
    "        \"messages\": [\n",
    "            {\"role\": \"user\", \"content\": \"서울의 날씨를 알려줘\"}\n",
    "        ]\n",
    "    }\n",
    ")"
   ]
  }
 ],
 "metadata": {
  "kernelspec": {
   "display_name": ".venv",
   "language": "python",
   "name": "python3"
  },
  "language_info": {
   "codemirror_mode": {
    "name": "ipython",
    "version": 3
   },
   "file_extension": ".py",
   "mimetype": "text/x-python",
   "name": "python",
   "nbconvert_exporter": "python",
   "pygments_lexer": "ipython3",
   "version": "3.13.5"
  }
 },
 "nbformat": 4,
 "nbformat_minor": 5
}
