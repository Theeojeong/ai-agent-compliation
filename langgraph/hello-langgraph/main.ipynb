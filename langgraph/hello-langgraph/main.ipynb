{
 "cells": [
  {
   "cell_type": "code",
   "execution_count": 1,
   "id": "639e96f0",
   "metadata": {},
   "outputs": [],
   "source": [
    "from typing import TypedDict, List, Dict, Union, Annotated\n",
    "from langgraph.graph import StateGraph, START, END\n",
    "from langgraph.types import Send\n",
    "import operator"
   ]
  },
  {
   "cell_type": "code",
   "execution_count": 2,
   "id": "f3593612",
   "metadata": {},
   "outputs": [],
   "source": [
    "def add(old, new):\n",
    "    return old + new\n",
    "\n",
    "class State(TypedDict):\n",
    "    words: List[str]\n",
    "    output: Annotated[List[Dict[str, Union[str, int]]], add]"
   ]
  },
  {
   "cell_type": "code",
   "execution_count": 3,
   "id": "426e7e4d",
   "metadata": {},
   "outputs": [],
   "source": [
    "def node_one(state: State):\n",
    "    print(f\"입력한 배열의 길이: {len(state[\"words\"])}\")\n",
    "\n",
    "def node_two(word: str):\n",
    "    return {\n",
    "        \"output\": [\n",
    "            {\n",
    "                \"word\": word,\n",
    "                \"letters\": len(word)\n",
    "            }\n",
    "        ]\n",
    "    }\n",
    "\n",
    "def abc(state: State):\n",
    "    words = state[\"words\"]\n",
    "    return [Send(node=\"node_two\", arg=word) for word in words]"
   ]
  },
  {
   "cell_type": "code",
   "execution_count": 4,
   "id": "9abd9013",
   "metadata": {},
   "outputs": [],
   "source": [
    "graph_builder = StateGraph(State)\n",
    "\n",
    "graph_builder.add_node(\"node_one\", node_one)\n",
    "graph_builder.add_node(\"node_two\", node_two)\n",
    "\n",
    "graph_builder.add_edge(START, \"node_one\")\n",
    "graph_builder.add_conditional_edges(\"node_one\", abc, [\"node_two\"])\n",
    "graph_builder.add_edge(\"node_two\", END)\n",
    "\n",
    "graph = graph_builder.compile()"
   ]
  },
  {
   "cell_type": "code",
   "execution_count": 5,
   "id": "08ff4817",
   "metadata": {},
   "outputs": [
    {
     "name": "stdout",
     "output_type": "stream",
     "text": [
      "입력한 배열의 길이: 4\n"
     ]
    },
    {
     "data": {
      "text/plain": [
       "{'words': ['hello', 'my_name', 'is', 'jaehyeon'],\n",
       " 'output': [{'word': 'hello', 'letters': 5},\n",
       "  {'word': 'my_name', 'letters': 7},\n",
       "  {'word': 'is', 'letters': 2},\n",
       "  {'word': 'jaehyeon', 'letters': 8}]}"
      ]
     },
     "execution_count": 5,
     "metadata": {},
     "output_type": "execute_result"
    }
   ],
   "source": [
    "graph.invoke(\n",
    "    {\n",
    "        \"words\": [\"hello\", \"my_name\", \"is\", \"jaehyeon\"],\n",
    "    }\n",
    ")"
   ]
  }
 ],
 "metadata": {
  "kernelspec": {
   "display_name": ".venv",
   "language": "python",
   "name": "python3"
  },
  "language_info": {
   "codemirror_mode": {
    "name": "ipython",
    "version": 3
   },
   "file_extension": ".py",
   "mimetype": "text/x-python",
   "name": "python",
   "nbconvert_exporter": "python",
   "pygments_lexer": "ipython3",
   "version": "3.13.5"
  }
 },
 "nbformat": 4,
 "nbformat_minor": 5
}
