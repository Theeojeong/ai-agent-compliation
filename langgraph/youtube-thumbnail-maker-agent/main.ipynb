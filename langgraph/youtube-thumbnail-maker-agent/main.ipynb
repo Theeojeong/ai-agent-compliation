{
 "cells": [
  {
   "cell_type": "code",
   "execution_count": 1,
   "id": "0680580b",
   "metadata": {},
   "outputs": [],
   "source": [
    "from langgraph.graph import StateGraph, START, END\n",
    "from typing import TypedDict\n",
    "from openai import OpenAI\n",
    "import subprocess\n",
    "\n",
    "class State(TypedDict):\n",
    "    video_file: str\n",
    "    audio_file: str\n",
    "    transcription: str"
   ]
  },
  {
   "cell_type": "code",
   "execution_count": 2,
   "id": "f10b504b",
   "metadata": {},
   "outputs": [],
   "source": [
    "def extract_audio(state: State):\n",
    "    output_file = state[\"video_file\"].replace(\"mp4\", \"mp3\")\n",
    "    command = [\n",
    "        \"ffmpeg\",\n",
    "        \"-i\",\n",
    "        state[\"video_file\"],\n",
    "        \"-filter:a\",\n",
    "        \"atempo=2.0\",\n",
    "        \"-y\",\n",
    "        output_file,\n",
    "    ]\n",
    "\n",
    "    subprocess.run(command)\n",
    "    return {\"audio_file\": output_file}\n",
    "\n",
    "\n",
    "def transcribe_audio(state: State):\n",
    "    # audio_file = state[\"audio_file\"]\n",
    "    client = OpenAI()\n",
    "    with open(state[\"audio_file\"], mode=\"rb\") as audio_file:\n",
    "        transcription = client.audio.transcriptions.create(\n",
    "            model=\"whisper-1\",\n",
    "            response_format=\"text\",\n",
    "            file=audio_file,\n",
    "            language=\"ko\",\n",
    "            prompt=\"Netherlands, Rotterdam, Amsterdam, The Hage\",\n",
    "        )\n",
    "    return {\n",
    "        \"transcription\": transcription,\n",
    "    }"
   ]
  },
  {
   "cell_type": "code",
   "execution_count": 3,
   "id": "347430d0",
   "metadata": {},
   "outputs": [],
   "source": [
    "graph_builder = StateGraph(State)\n",
    "\n",
    "graph_builder.add_node(\"extract_audio\", extract_audio)\n",
    "graph_builder.add_node(\"transcribe_audio\", transcribe_audio)\n",
    "\n",
    "graph_builder.add_edge(START, \"extract_audio\")\n",
    "graph_builder.add_edge(\"extract_audio\", \"transcribe_audio\")\n",
    "graph_builder.add_edge(\"transcribe_audio\", END)\n",
    "\n",
    "graph = graph_builder.compile()"
   ]
  },
  {
   "cell_type": "code",
   "execution_count": 4,
   "id": "661b2d1b",
   "metadata": {},
   "outputs": [
    {
     "data": {
      "text/plain": [
       "{'video_file': './video.mp4',\n",
       " 'audio_file': './video.mp3',\n",
       " 'transcription': '자소서가 언덕듣기에는 쓰기 쉬울 것 같아요 근데 여러분도 써보셔서 아시겠지만 가장 어려운 부분이 또 자소서이지 않나 자소서 쓸 때 하지 말아야 될 것부터 짚고 넘어가면 좋을 것 같아요 지금 보실 때 진짜 하지 말아야 되는 거 탈락하는 자소서는 뭐가 있을까요? 빠밤 빠밤 제가 계속 따라해야 되나요? 저희 시니어 면접위원분들께서 하시는 말씀 있는데 나는 딱 보면 알아 나름 말씀 많이 하세요 너무하신 거 아니에요? 맞습니다 그래서 그 직감에 의한 평가는 하지 않도록 저희가 계속 컨트롤을 하는 거고요 그래서 면접위원도 교육을 하는 건데요 그런데 자기소개서는 정말 딱 보면 알 수 있는 방법이 있어요 이건 직감이 아니고요 여러분들이 쓰신 자기소개서의 구조를 보면 딱 알 수 있어요 어떤 분들은 기승 경별로 막 앞쪽에서 막 이야기를 하세요 스토리텔링 하시다가 맨 마지막에 하고 싶은 말 이렇게 쓰시는데 그렇게 쓰시면 안 돼요 여러분 항상 앞에 성과, 결과부터 쓰시고 그다음에 그 성과 결과를 만들어낸 나의 액션, 상황 이런 것들을 쓰시는 거예요 시간이 없어 혹은 분량이 너무 쏟아져 라고 하면 성과만 쓰셔도 돼요 성과 플러스 나의 액션만 쓰셔도 돼요 음 성과 플러스 액션만 써야 돼요 다른 거는 안 쓰셔도 돼요 그거는 면접 때 여러분들에게 어차피 여쭤볼 거예요 그러니까 성과, 나의 액션 이런 생각을 해주셔야 되고요 두 번째 여러분들 너무 안타까운 게 있어요 내가 너무 잘났다라는 것을 보여주고 싶고 내가 이렇게 어려운 것을 했어라 하는 것을 보여주고 싶으신 건 알겠는데 이게 과연 지원하시는 회사의 직무와 어떤 연관성이 있는지를 꼭 확인을 하셔야 돼요 그것을 어필을 하셔야 돼요 그런 부분으로 해서 내가 원하는, 나의 달란 모습이 아니라 회사에서 나를 뽑고 싶어 하는지 그거를 타깃으로 해서 글을 쓰신다고 한다면 분명히 매력적인 자기소개서를 쓰실 수 있습니다 근데 그 말씀하신 부분이 제일 어려운 부분인 것 같아요 그러니까 내가 잘난 부분을 어필하는 게 당연한 거 아닌가요? 맞아요 정말 당연하죠 여러분 그런데 말씀드려요 본인이 지원한 직무랑 어떻게든 연결된 고리를 찾으셔야 돼요 잘난 부분을 어필하는 건 맞는데 직무랑 관련 없는 잘난 걸 어필하는 게 필요가 있는 거죠? 그럼요 그럼요 여러분 예를 들면 내가 수석으로 졸업을 했어 근데 저는 너무 잘 나왔잖아요 당연히 써야죠 여러분 이거 쓰셔야죠 그쵸? 근데 내가 지원한 직무가 나의 전공의 지식 전공에서 배웠던 그 스킬과 연관성이 있다고 한다면 당연히 이거는 100% 써줘야죠 내가 수석으로 졸업했어 그래서 내가 이 전공 지식과 스킬에 대해서 누구보다 더 잘 알아 라는 메시지를 보내주실 수가 있잖아요 근데 그게 아니라 그것과 연관성이 없는 직무임에도 불구하고 그것을 메인으로 두시고 분량을 너무 많이 차지하시게 되면 오히려 그것을 보는 평가자는 거기에 대해선 별로 가치를 부여하지 않을 수 있습니다 그럼 수석으로 졸업한 게 유의미한 직무가 있고 무의미한 직무가 좀 있겠네요 네 저는 그런 거 같아요 예를 들어서 이렇게 표현하면 나도 문과여서 그래요 문과 같은 경우는 수석으로 졸업한 게 지식적으로 회사와 바로 연결되지 않다보니까 이과보다는 좀 덜 중요할 수도 있겠네요 저는 네 쉬쉬하면서 말씀하세요 저는 좀 있는 거 같아요 근데 20개월은 지식이 바로 쓰이기 때문에 되게 중요할 수도 있고 맞습니다 저 같은 경우에는 여러분 학사 말고 석사를 졸업을 했는데요 제가 요거를 조금 포인트로 삼아줬어요 왜냐하면 저는 정치외교학과 석사입니다 아무런 일도 관련성이 없었어요 당연하잖아요 여러분 정말 정치학과죠 일도 관련이 없었네요 그런데 그럼에도 불구하고 저는 이걸 어떻게 어필했냐면 정치외교학과 석사를 하면서 정말 많은 아티클과 정말 많은 문원들을 통해서 인사이트를 추출하고 그것을 문제 해결로 연결하는 그런 작업들을 너무 많이 했다라고 하는 식으로 저는 스태프 직무에 지원을 하는 거니까 그걸로 좀 어필을 많이 했던 기억이 있습니다 오 그거는 내가 그 연결 포인트를 만든 거네요 그럼요 오 너무 좋다 제가 좀 부정적으로 말씀드렸었는데 수석도 문과석 석사 졸업한 것 그 모든 것들도 직무가 이렇게 연결성을 만들어 놓으면 말 그대로 나의 자랑으로 끝나는 것이 아니라 나의 강점으로 어필할 수 있는 포인트입니다 제가 공대 수석 졸업했는데 원하는 직무가 R&D면 수석 졸업으로 어필해도 될까요? 아니 뭐 이건 어떻게든 가능한 거죠 그럼요 그럼요 너무너무 좋은데요 그리고 구조에 대한 이야기 하셨잖아요 구조를 어떻게 짜는 게 좋을 것 같아요? 아까 간단하게 빨리 쓰는 경우는 말씀해 주셨잖아요 성과, 액션 이것만 쓰라고 했는데 좀 잘 쓰고 싶다 하시는 분은 구조 분량이 어느 정도 확보가 되어있다라고 하신다면 우리 면접 때 스타 기법이라고 기억나세요? 시추에이션 테스트 액션 리절트 아 맞습니다 역시 그 스타 기법을 쓰시는 건데요 여러분들께서 일단 말씀드린 것처럼 두 가지 식으로 성과를 먼저 쓰시고요 그 다음에 시추에이션 그때 어떤 상황이었는지 그리고 내가 액션을 어떤 액션을 했는지 그 결과적으로 어떤 효과가 났는지에 대해서 구조적으로 써주시면 되는 거고 문단을 나누실 때도 그 기준으로 쓰시면 되는 겁니다 그러면 이게 분량을 25% 25% 25% 만약에 분량을 가장 많이 줘야 된다고 한다면 저는 액션 부분 그렇죠 그것이 여러분들의 역량입니다 음 맞아요 여러분들 작성하실 때 지금 간단하게 하고 넘어가겠지만 시추에이션과 상황 테스트는 어떻게 보면 외부 환경에서 주어진 건데 너는 뭐 했니? 라는 부분이잖아요 내가 뭐 했는지에 집중해서 써주시는 그 구조만 있어도 근데 반면에 지금 전체 핵심으로 따져보면 그게 없으면 이거 있다고 좋다기보다는 없으면 그냥 떨어진다는 거죠 그렇죠 정확히 적으면 안 되는 거죠 어 그럼 구조가 없으면 진짜 떨어진다 이렇게 좀 보시면 좋을 것 같아요 저는 데이쿱이었고요 저는 한상희였습니다 이만 저희는 이만 물러가도록 하겠습니다 그럼 물러가볼게요 안녕 안녕\\n'}"
      ]
     },
     "execution_count": 4,
     "metadata": {},
     "output_type": "execute_result"
    }
   ],
   "source": [
    "graph.invoke(\n",
    "    {\n",
    "        \"video_file\": \"./video.mp4\"\n",
    "    }\n",
    ")"
   ]
  }
 ],
 "metadata": {
  "kernelspec": {
   "display_name": ".venv",
   "language": "python",
   "name": "python3"
  },
  "language_info": {
   "codemirror_mode": {
    "name": "ipython",
    "version": 3
   },
   "file_extension": ".py",
   "mimetype": "text/x-python",
   "name": "python",
   "nbconvert_exporter": "python",
   "pygments_lexer": "ipython3",
   "version": "3.13.5"
  }
 },
 "nbformat": 4,
 "nbformat_minor": 5
}
