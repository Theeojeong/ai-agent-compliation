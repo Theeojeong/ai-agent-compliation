{
 "cells": [
  {
   "cell_type": "code",
   "execution_count": 19,
   "id": "8d894793",
   "metadata": {},
   "outputs": [],
   "source": [
    "import openai\n",
    "\n",
    "client = openai.OpenAI()\n",
    "messages = []"
   ]
  },
  {
   "cell_type": "code",
   "execution_count": 20,
   "id": "64d484c4",
   "metadata": {},
   "outputs": [],
   "source": [
    "def call_ai():\n",
    "    response = client.chat.completions.create(\n",
    "        model='gpt-4.1-mini',\n",
    "        messages=messages\n",
    "    )\n",
    "    messages.append({'role': 'assistant', 'content': response.choices[0].message.content})\n",
    "    print('AI:', response.choices[0].message.content)"
   ]
  },
  {
   "cell_type": "code",
   "execution_count": 21,
   "id": "e5452923",
   "metadata": {},
   "outputs": [
    {
     "name": "stdout",
     "output_type": "stream",
     "text": [
      "User: 안녕 내 이름은 정재현이야\n",
      "AI: 안녕 재현씨! 만나서 반가워요. 어떻게 도와드릴까요?\n",
      "User: 내 이름을 기억해?\n",
      "AI: 대화 중에는 당신의 이름을 기억할 수 있지만, 대화가 끝나면 기억이 초기화돼요. 그래서 지금은 당신의 이름이 정재현 씨라는 걸 기억하고 있어요!\n",
      "User: 노마드코더란 사람을 알고있어?\n",
      "AI: 네, 노마드코더에 대해 알고 있습니다! 노마드코더(Nomad Coder)는 주로 온라인으로 코딩과 프로그래밍 강의를 제공하는 인기 있는 교육 플랫폼이자 유튜브 채널 이름이기도 합니다. 개발자 고용성과를 높이기 위한 실습형 강의와 프로젝트 중심의 커리큘럼으로 많은 사람들에게 사랑받고 있죠. 특히 웹 개발, 프론트엔드, 백엔드, 모바일 앱 개발 등 다양한 주제를 다루고 있습니다. 혹시 노마드코더에 대해 더 궁금한 점이나 도움 필요한 부분이 있나요?\n",
      "User: 그 사람의 국적은 어디야? 왜 한국에서 활동하고 있는거야?\n",
      "AI: 노마드코더는 한국인으로 알려져 있습니다. 그는 한국에서 활동하는 이유는 본인이 한국인이고, 한국어로 강의를 제공하며, 한국어 사용자들을 대상으로 교육을 주로 하기 때문입니다. 또한, 한국의 개발자 커뮤니티와 교육 시장에서 높은 수요가 있기 때문에 한국에서 활동하는 것이 자연스러운 선택이라고 할 수 있어요.\n",
      "\n",
      "혹시 더 궁금한 점 있으면 알려주세요!\n",
      "User: \n",
      "AI: 도움이 필요하시면 언제든지 말씀해 주세요!\n"
     ]
    }
   ],
   "source": [
    "while True:\n",
    "    message = input(\"llm에게 질문해보세요\")\n",
    "    if message == \"quit\" or message == \"q\":\n",
    "        break\n",
    "    else:\n",
    "        messages.append({'role': 'user', 'content': message})\n",
    "        print('User:', message)\n",
    "        call_ai()"
   ]
  }
 ],
 "metadata": {
  "kernelspec": {
   "display_name": ".venv",
   "language": "python",
   "name": "python3"
  },
  "language_info": {
   "codemirror_mode": {
    "name": "ipython",
    "version": 3
   },
   "file_extension": ".py",
   "mimetype": "text/x-python",
   "name": "python",
   "nbconvert_exporter": "python",
   "pygments_lexer": "ipython3",
   "version": "3.13.5"
  }
 },
 "nbformat": 4,
 "nbformat_minor": 5
}
