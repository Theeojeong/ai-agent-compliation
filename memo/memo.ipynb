{
 "cells": [
  {
   "cell_type": "markdown",
   "id": "c350cba9",
   "metadata": {},
   "source": [
    "## import json 용도"
   ]
  },
  {
   "cell_type": "code",
   "execution_count": 9,
   "id": "7a3d60e9",
   "metadata": {},
   "outputs": [
    {
     "name": "stdout",
     "output_type": "stream",
     "text": [
      "<class 'str'>\n",
      "<class 'dict'>\n"
     ]
    }
   ],
   "source": [
    "import json\n",
    "\n",
    "a = '{\"city\": \"Spain\"}'\n",
    "\n",
    "print(type(a))\n",
    "\n",
    "b = json.loads(a)\n",
    "\n",
    "print(type(b))"
   ]
  },
  {
   "cell_type": "markdown",
   "id": "37fe193c",
   "metadata": {},
   "source": [
    "## **의 역할"
   ]
  },
  {
   "cell_type": "code",
   "execution_count": 12,
   "id": "53b9f1c1",
   "metadata": {},
   "outputs": [
    {
     "name": "stdout",
     "output_type": "stream",
     "text": [
      "{'city': 'Spain'}\n"
     ]
    }
   ],
   "source": [
    "print(b)"
   ]
  },
  {
   "cell_type": "markdown",
   "id": "1c1f5cb9",
   "metadata": {},
   "source": [
    "**b 의 역할은 {'city': 'Spain'} -> city='Spain' 으로 변환해준다"
   ]
  }
 ],
 "metadata": {
  "kernelspec": {
   "display_name": ".venv",
   "language": "python",
   "name": "python3"
  },
  "language_info": {
   "codemirror_mode": {
    "name": "ipython",
    "version": 3
   },
   "file_extension": ".py",
   "mimetype": "text/x-python",
   "name": "python",
   "nbconvert_exporter": "python",
   "pygments_lexer": "ipython3",
   "version": "3.13.5"
  }
 },
 "nbformat": 4,
 "nbformat_minor": 5
}
